{
 "cells": [
  {
   "cell_type": "code",
   "execution_count": 1,
   "id": "39044efe-5ec4-4747-a45e-bee76f4e22bb",
   "metadata": {},
   "outputs": [
    {
     "name": "stderr",
     "output_type": "stream",
     "text": [
      "2025-06-05 22:51:43.272 \n",
      "  \u001b[33m\u001b[1mWarning:\u001b[0m to view this Streamlit app on a browser, run it with the following\n",
      "  command:\n",
      "\n",
      "    streamlit run C:\\Users\\HP\\anaconda3\\Lib\\site-packages\\ipykernel_launcher.py [ARGUMENTS]\n"
     ]
    }
   ],
   "source": [
    "import streamlit as st\n",
    "import openai\n",
    "import os\n",
    "\n",
    "# Set API key securely\n",
    "openai.api_key = os.getenv(\"OPENAI_API_KEY\")  # Make sure to set this variable before running\n",
    "\n",
    "def ask_gpt(prompt):\n",
    "    try:\n",
    "        response = openai.ChatCompletion.create(\n",
    "            model=\"gpt-4\",\n",
    "            messages=[{\"role\": \"user\", \"content\": prompt}],\n",
    "            temperature=0.7\n",
    "        )\n",
    "        return response.choices[0].message.content.strip()\n",
    "    except Exception as e:\n",
    "        return f\"Error: {str(e)}\"\n",
    "\n",
    "st.set_page_config(page_title=\"AI Revision Assistant\", layout=\"wide\")\n",
    "st.title(\"📘 AI Revision Assistant\")\n",
    "st.markdown(\"An AI-powered tool to help students revise topics, summarize notes, and clear doubts.\")\n",
    "\n",
    "tool = st.sidebar.selectbox(\"Choose a Tool\", [\"Quiz Generator\", \"Summarizer\", \"Doubt Solver\"])\n",
    "\n",
    "if tool == \"Quiz Generator\":\n",
    "    st.header(\"📝 Generate a Quiz\")\n",
    "    topic = st.text_input(\"Enter a topic (e.g., Photosynthesis)\")\n",
    "    if st.button(\"Generate Quiz\"):\n",
    "        if topic:\n",
    "            prompt = f\"Create 3 multiple choice questions with answers for the topic: {topic}.\"\n",
    "            st.markdown(ask_gpt(prompt))\n",
    "        else:\n",
    "            st.warning(\"Please enter a topic.\")\n",
    "\n",
    "elif tool == \"Summarizer\":\n",
    "    st.header(\"📄 Summarize Your Notes\")\n",
    "    notes = st.text_area(\"Paste your notes here:\")\n",
    "    if st.button(\"Summarize Notes\"):\n",
    "        if notes.strip():\n",
    "            prompt = f\"Summarize the following for revision:\\n{notes}\"\n",
    "            st.markdown(ask_gpt(prompt))\n",
    "        else:\n",
    "            st.warning(\"Please paste your notes.\")\n",
    "\n",
    "elif tool == \"Doubt Solver\":\n",
    "    st.header(\"❓ Clear Your Doubts\")\n",
    "    doubt = st.text_input(\"Type your academic question:\")\n",
    "    if st.button(\"Solve Doubt\"):\n",
    "        if doubt.strip():\n",
    "            prompt = f\"Explain clearly and simply: {doubt}\"\n",
    "            st.markdown(ask_gpt(prompt))\n",
    "        else:\n",
    "            st.warning(\"Please enter a question.\")\n"
   ]
  },
  {
   "cell_type": "code",
   "execution_count": null,
   "id": "8138b761-5ca5-477f-aad3-a8e7905a951b",
   "metadata": {},
   "outputs": [],
   "source": []
  }
 ],
 "metadata": {
  "kernelspec": {
   "display_name": "Python 3 (ipykernel)",
   "language": "python",
   "name": "python3"
  },
  "language_info": {
   "codemirror_mode": {
    "name": "ipython",
    "version": 3
   },
   "file_extension": ".py",
   "mimetype": "text/x-python",
   "name": "python",
   "nbconvert_exporter": "python",
   "pygments_lexer": "ipython3",
   "version": "3.12.4"
  }
 },
 "nbformat": 4,
 "nbformat_minor": 5
}
